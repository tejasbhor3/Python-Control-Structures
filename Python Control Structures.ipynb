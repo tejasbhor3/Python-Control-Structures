{
 "cells": [
  {
   "cell_type": "code",
   "execution_count": 4,
   "metadata": {},
   "outputs": [
    {
     "name": "stdout",
     "output_type": "stream",
     "text": [
      "b is greater than a\n"
     ]
    }
   ],
   "source": [
    "a=1\n",
    "b=2\n",
    "if b>a:\n",
    "    print(\"b is greater than a\");"
   ]
  },
  {
   "cell_type": "markdown",
   "metadata": {},
   "source": [
    "IF....ELSE BLOCK"
   ]
  },
  {
   "cell_type": "code",
   "execution_count": 6,
   "metadata": {},
   "outputs": [
    {
     "name": "stdout",
     "output_type": "stream",
     "text": [
      "Both a and b are equal\n"
     ]
    }
   ],
   "source": [
    "a=50\n",
    "b=50\n",
    "if b>a:\n",
    "    print('b is greater than a')\n",
    "elif a>b:\n",
    "    print('a is greater than b')\n",
    "else:\n",
    "    print('Both a and b are equal');"
   ]
  },
  {
   "cell_type": "markdown",
   "metadata": {},
   "source": [
    "IF...ELSE WITHOUT ELIF BLOCK"
   ]
  },
  {
   "cell_type": "code",
   "execution_count": 7,
   "metadata": {},
   "outputs": [
    {
     "name": "stdout",
     "output_type": "stream",
     "text": [
      "a is greater than b\n"
     ]
    }
   ],
   "source": [
    "a=50\n",
    "b=50\n",
    "if b>a:\n",
    "    print('b is greater than a')\n",
    "else:\n",
    "    print('a is greater than b');\n",
    "    "
   ]
  },
  {
   "cell_type": "markdown",
   "metadata": {},
   "source": [
    "Short hand if"
   ]
  },
  {
   "cell_type": "code",
   "execution_count": 8,
   "metadata": {},
   "outputs": [
    {
     "name": "stdout",
     "output_type": "stream",
     "text": [
      "a is greater than b\n"
     ]
    }
   ],
   "source": [
    "a=10\n",
    "b=2\n",
    "if a>b:print('a is greater than b')"
   ]
  },
  {
   "cell_type": "markdown",
   "metadata": {},
   "source": [
    "Short hand if...else"
   ]
  },
  {
   "cell_type": "code",
   "execution_count": 9,
   "metadata": {},
   "outputs": [
    {
     "name": "stdout",
     "output_type": "stream",
     "text": [
      "B is greater\n"
     ]
    }
   ],
   "source": [
    "a=2\n",
    "b=3\n",
    "print('A is greater') if a>b else print('B is greater')"
   ]
  },
  {
   "cell_type": "markdown",
   "metadata": {},
   "source": [
    "AND condition in if block"
   ]
  },
  {
   "cell_type": "code",
   "execution_count": 10,
   "metadata": {},
   "outputs": [
    {
     "name": "stdout",
     "output_type": "stream",
     "text": [
      "a is the greatest\n"
     ]
    }
   ],
   "source": [
    "a=2000\n",
    "b=33\n",
    "c=500\n",
    "if a>b and a>c:\n",
    "    print ('a is the greatest')"
   ]
  },
  {
   "cell_type": "markdown",
   "metadata": {},
   "source": [
    "OR condition in if block"
   ]
  },
  {
   "cell_type": "code",
   "execution_count": 11,
   "metadata": {},
   "outputs": [
    {
     "name": "stdout",
     "output_type": "stream",
     "text": [
      "a is the greater than at least one of the other 2 numbers\n"
     ]
    }
   ],
   "source": [
    "a=200\n",
    "b=33\n",
    "c=500\n",
    "if a>b or a>c:\n",
    "    print('a is the greater than at least one of the other 2 numbers');"
   ]
  },
  {
   "cell_type": "code",
   "execution_count": 12,
   "metadata": {},
   "outputs": [
    {
     "name": "stdout",
     "output_type": "stream",
     "text": [
      "end\n",
      "exit\n"
     ]
    }
   ],
   "source": [
    "a=1\n",
    "b=2\n",
    "if b<a:\n",
    "    print('b is greater than a')\n",
    "print('end')\n",
    "print('exit')"
   ]
  },
  {
   "cell_type": "code",
   "execution_count": 14,
   "metadata": {},
   "outputs": [],
   "source": [
    "a=1\n",
    "b=2\n",
    "if b<2:\n",
    "    print('b is greater than a')\n",
    "    print ('end');"
   ]
  },
  {
   "cell_type": "markdown",
   "metadata": {},
   "source": [
    "Nested if block"
   ]
  },
  {
   "cell_type": "code",
   "execution_count": 16,
   "metadata": {},
   "outputs": [
    {
     "name": "stdout",
     "output_type": "stream",
     "text": [
      "a is less than b and greater than c\n"
     ]
    }
   ],
   "source": [
    "a=2000\n",
    "b=3300\n",
    "c=500\n",
    "if a>b:\n",
    "    if a>c:\n",
    "        print('a is the greatest')\n",
    "    else:\n",
    "        print('a is the greater than b but less than c')\n",
    "else:\n",
    "    if a>c:\n",
    "        print('a is less than b and greater than c')\n",
    "    else:\n",
    "        print('a is the smallest');"
   ]
  },
  {
   "cell_type": "markdown",
   "metadata": {},
   "source": [
    "Pass Keyword"
   ]
  },
  {
   "cell_type": "code",
   "execution_count": 17,
   "metadata": {},
   "outputs": [],
   "source": [
    "a=1\n",
    "b=2\n",
    "if a<b:\n",
    "    pass\n",
    "else:\n",
    "    print('a is greater than b');"
   ]
  },
  {
   "cell_type": "code",
   "execution_count": 18,
   "metadata": {},
   "outputs": [
    {
     "name": "stdout",
     "output_type": "stream",
     "text": [
      "a is greater than b\n"
     ]
    }
   ],
   "source": [
    "a=1\n",
    "b=2\n",
    "if a>b:\n",
    "    pass\n",
    "else:\n",
    "    print('a is greater than b');\n",
    "    "
   ]
  },
  {
   "cell_type": "markdown",
   "metadata": {},
   "source": [
    "While LOOP"
   ]
  },
  {
   "cell_type": "code",
   "execution_count": 19,
   "metadata": {},
   "outputs": [
    {
     "name": "stdout",
     "output_type": "stream",
     "text": [
      "5\n",
      "6\n",
      "7\n",
      "8\n",
      "9\n",
      "10\n"
     ]
    }
   ],
   "source": [
    "i=5\n",
    "while i<=10:\n",
    "    print(i)\n",
    "    i=i+1;"
   ]
  },
  {
   "cell_type": "markdown",
   "metadata": {},
   "source": [
    "WHILE LOOP WITH BREAK"
   ]
  },
  {
   "cell_type": "code",
   "execution_count": 22,
   "metadata": {},
   "outputs": [
    {
     "name": "stdout",
     "output_type": "stream",
     "text": [
      "1\n",
      "2\n"
     ]
    }
   ],
   "source": [
    "i=0\n",
    "while i<6:\n",
    "    i+=1\n",
    "    if i==3:\n",
    "        break\n",
    "    print(i);"
   ]
  },
  {
   "cell_type": "markdown",
   "metadata": {},
   "source": [
    "WHILE LOOP WITH CONTINUE"
   ]
  },
  {
   "cell_type": "code",
   "execution_count": 23,
   "metadata": {},
   "outputs": [
    {
     "name": "stdout",
     "output_type": "stream",
     "text": [
      "1\n",
      "2\n",
      "4\n",
      "5\n",
      "6\n"
     ]
    }
   ],
   "source": [
    "i=0\n",
    "while i<6:\n",
    "    i+=1\n",
    "    if i==3:\n",
    "        continue\n",
    "    print(i);"
   ]
  },
  {
   "cell_type": "markdown",
   "metadata": {},
   "source": [
    "WHILE LOOP WITH ELSE"
   ]
  },
  {
   "cell_type": "code",
   "execution_count": 25,
   "metadata": {},
   "outputs": [
    {
     "name": "stdout",
     "output_type": "stream",
     "text": [
      "1\n",
      "2\n",
      "3\n",
      "4\n",
      "5\n",
      "i is no longer less than 6\n"
     ]
    }
   ],
   "source": [
    "i=1\n",
    "while i<6:\n",
    "    print(i)\n",
    "    i+=1\n",
    "else:\n",
    "    print('i is no longer less than 6');"
   ]
  },
  {
   "cell_type": "code",
   "execution_count": 1,
   "metadata": {},
   "outputs": [
    {
     "name": "stdout",
     "output_type": "stream",
     "text": [
      "GE\n",
      "Citi\n",
      "BI\n",
      "Lloyds\n"
     ]
    }
   ],
   "source": [
    "capgemini=[\"GE\",\"Citi\",\"BI\",\"Lloyds\"]\n",
    "for acounts in capgemini:\n",
    "    print(acounts);"
   ]
  },
  {
   "cell_type": "code",
   "execution_count": 3,
   "metadata": {},
   "outputs": [
    {
     "name": "stdout",
     "output_type": "stream",
     "text": [
      "c\n",
      "a\n",
      "p\n",
      "g\n",
      "e\n",
      "m\n",
      "i\n",
      "n\n",
      "i\n"
     ]
    }
   ],
   "source": [
    "for x in \"capgemini\":\n",
    "    print(x)"
   ]
  },
  {
   "cell_type": "code",
   "execution_count": 5,
   "metadata": {},
   "outputs": [
    {
     "name": "stdout",
     "output_type": "stream",
     "text": [
      "Nike\n",
      "capone\n",
      "Lloyds\n",
      "Citi\n"
     ]
    }
   ],
   "source": [
    "wipro=[\"Nike\",\"capone\",\"Lloyds\",\"Citi\",\"MasterCard\"]\n",
    "for accounts in wipro:\n",
    "    print(accounts);\n",
    "    if accounts==\"Citi\":\n",
    "        break;"
   ]
  },
  {
   "cell_type": "code",
   "execution_count": 6,
   "metadata": {},
   "outputs": [
    {
     "name": "stdout",
     "output_type": "stream",
     "text": [
      "Nike\n",
      "capone\n",
      "Lloyds\n"
     ]
    }
   ],
   "source": [
    "wipro=[\"Nike\",\"capone\",\"Lloyds\",\"Citi\",\"MasterCard\"]\n",
    "for accounts in wipro:\n",
    "    if accounts==\"Citi\":\n",
    "        break;\n",
    "    print(accounts);"
   ]
  },
  {
   "cell_type": "markdown",
   "metadata": {},
   "source": [
    "For loop with continue"
   ]
  },
  {
   "cell_type": "code",
   "execution_count": 14,
   "metadata": {},
   "outputs": [
    {
     "name": "stdout",
     "output_type": "stream",
     "text": [
      "Nike\n",
      "Capone\n",
      "Lloyds\n",
      "Master card\n"
     ]
    }
   ],
   "source": [
    "wipro=[\"Nike\",\"Capone\",\"Lloyds\",\"Citi\",\"Master card\"]\n",
    "for accounts in wipro:\n",
    "    if accounts==\"Citi\": \n",
    "        continue;\n",
    "    print(accounts);"
   ]
  },
  {
   "cell_type": "markdown",
   "metadata": {},
   "source": [
    "For Loop With Else"
   ]
  },
  {
   "cell_type": "code",
   "execution_count": 15,
   "metadata": {},
   "outputs": [
    {
     "name": "stdout",
     "output_type": "stream",
     "text": [
      "Nike\n",
      "Capone\n",
      "Lloyds\n",
      "Citi\n",
      "Master card\n",
      "These are the accounts in Wipro\n"
     ]
    }
   ],
   "source": [
    "wipro=[\"Nike\",\"Capone\",\"Lloyds\",\"Citi\",\"Master card\"]\n",
    "for accounts in wipro:\n",
    "    print(accounts);\n",
    "print(\"These are the accounts in Wipro\")"
   ]
  },
  {
   "cell_type": "markdown",
   "metadata": {},
   "source": [
    "For loop with pass keyword"
   ]
  },
  {
   "cell_type": "code",
   "execution_count": 16,
   "metadata": {},
   "outputs": [
    {
     "name": "stdout",
     "output_type": "stream",
     "text": [
      "End of for Loop\n"
     ]
    }
   ],
   "source": [
    "wipro=[\"Nike\",\"Capone\",\"Lloyds\",\"Citi\",\"Master card\"]\n",
    "for accounts in wipro:\n",
    "    pass;\n",
    "print(\"End of for Loop\");"
   ]
  },
  {
   "cell_type": "markdown",
   "metadata": {},
   "source": [
    "FOR LOOP WITH RANGE FUNCTION"
   ]
  },
  {
   "cell_type": "code",
   "execution_count": 17,
   "metadata": {},
   "outputs": [
    {
     "name": "stdout",
     "output_type": "stream",
     "text": [
      "0\n",
      "1\n",
      "2\n",
      "3\n",
      "4\n",
      "5\n"
     ]
    }
   ],
   "source": [
    "for x in range(6):\n",
    "    print(x);"
   ]
  },
  {
   "cell_type": "code",
   "execution_count": 18,
   "metadata": {},
   "outputs": [
    {
     "name": "stdout",
     "output_type": "stream",
     "text": [
      "2\n",
      "3\n",
      "4\n",
      "5\n"
     ]
    }
   ],
   "source": [
    "for x in range(2,6):\n",
    "    print(x);"
   ]
  },
  {
   "cell_type": "code",
   "execution_count": 19,
   "metadata": {},
   "outputs": [
    {
     "name": "stdout",
     "output_type": "stream",
     "text": [
      "2\n",
      "4\n"
     ]
    }
   ],
   "source": [
    "for x in range(2,6,2):\n",
    "    print(x);"
   ]
  },
  {
   "cell_type": "code",
   "execution_count": 21,
   "metadata": {},
   "outputs": [
    {
     "name": "stdout",
     "output_type": "stream",
     "text": [
      "Inside Sample Functions\n",
      "Outside Sample Function\n"
     ]
    }
   ],
   "source": [
    "def sample():\n",
    "    print(\"Inside Sample Functions\");\n",
    "    print(\"Outside Sample Function\");\n",
    "sample();"
   ]
  },
  {
   "cell_type": "code",
   "execution_count": 22,
   "metadata": {},
   "outputs": [
    {
     "name": "stdout",
     "output_type": "stream",
     "text": [
      "Enter the name?:tejas\n",
      "Hitejas\n"
     ]
    }
   ],
   "source": [
    "def sample(name):\n",
    "    print(\"Hi\"+name);\n",
    "name=input(\"Enter the name?:\");\n",
    "sample(name);"
   ]
  },
  {
   "cell_type": "markdown",
   "metadata": {},
   "source": [
    "with return value"
   ]
  },
  {
   "cell_type": "code",
   "execution_count": 28,
   "metadata": {},
   "outputs": [
    {
     "name": "stdout",
     "output_type": "stream",
     "text": [
      "Enter the name?: tejas\n",
      "Hitejas\n",
      "message\n"
     ]
    }
   ],
   "source": [
    "def sample(name):\n",
    "    print(\"Hi\" +name);\n",
    "    return('message');\n",
    "name=input(\"Enter the name?: \");\n",
    "print(sample(name));"
   ]
  },
  {
   "cell_type": "markdown",
   "metadata": {},
   "source": [
    "passing arbitrary arguments"
   ]
  },
  {
   "cell_type": "code",
   "execution_count": 31,
   "metadata": {},
   "outputs": [
    {
     "name": "stdout",
     "output_type": "stream",
     "text": [
      "The youngest child isDhawin\n"
     ]
    }
   ],
   "source": [
    "def sample(*kids):\n",
    "    print(\"The youngest child is\"+ kids[2])\n",
    "sample(\"Priya\",\"Bala\",\"Dhawin\");"
   ]
  },
  {
   "cell_type": "code",
   "execution_count": 32,
   "metadata": {},
   "outputs": [
    {
     "name": "stdout",
     "output_type": "stream",
     "text": [
      "Enter the Name?tejas\n",
      "HItejas\n"
     ]
    }
   ],
   "source": [
    "def sample(arg1):\n",
    "    print(\"HI\"+ name);\n",
    "name=input(\"Enter the Name?\");\n",
    "sample(arg1=\"name\");"
   ]
  },
  {
   "cell_type": "code",
   "execution_count": 33,
   "metadata": {},
   "outputs": [
    {
     "name": "stdout",
     "output_type": "stream",
     "text": [
      "The youngest child isChinnu\n"
     ]
    }
   ],
   "source": [
    "def sample(child3,child2,child1):\n",
    "    print(\"The youngest child is\"+child3)\n",
    "sample(child1=\"Bala\",child2=\"Priya\",child3=\"Chinnu\");"
   ]
  },
  {
   "cell_type": "markdown",
   "metadata": {},
   "source": [
    "DEFAULT PARAMETER VALUE"
   ]
  },
  {
   "cell_type": "code",
   "execution_count": 38,
   "metadata": {},
   "outputs": [
    {
     "name": "stdout",
     "output_type": "stream",
     "text": [
      "His Last Name isPriya\n"
     ]
    }
   ],
   "source": [
    "def sample(**kid):\n",
    "    print(\"His Last Name is\"+kid[\"lname\"]);\n",
    "sample(fname=\"Bala\",lname=\"Priya\");"
   ]
  },
  {
   "cell_type": "code",
   "execution_count": 39,
   "metadata": {},
   "outputs": [],
   "source": [
    "def sample(value=\"default\"):\n",
    "    print(\"My name is\"+value)"
   ]
  },
  {
   "cell_type": "code",
   "execution_count": 40,
   "metadata": {},
   "outputs": [
    {
     "name": "stdout",
     "output_type": "stream",
     "text": [
      "My name isParameter1\n",
      "My name isParameter2\n",
      "My name isdefault\n",
      "My name isParameter4\n"
     ]
    }
   ],
   "source": [
    "def sample(value=\"default\"):\n",
    "    print(\"My name is\"+value)\n",
    "sample(\"Parameter1\")\n",
    "sample(\"Parameter2\")\n",
    "sample()\n",
    "sample(\"Parameter4\");"
   ]
  },
  {
   "cell_type": "code",
   "execution_count": null,
   "metadata": {},
   "outputs": [],
   "source": []
  }
 ],
 "metadata": {
  "kernelspec": {
   "display_name": "Python 3",
   "language": "python",
   "name": "python3"
  },
  "language_info": {
   "codemirror_mode": {
    "name": "ipython",
    "version": 3
   },
   "file_extension": ".py",
   "mimetype": "text/x-python",
   "name": "python",
   "nbconvert_exporter": "python",
   "pygments_lexer": "ipython3",
   "version": "3.8.5"
  }
 },
 "nbformat": 4,
 "nbformat_minor": 4
}
